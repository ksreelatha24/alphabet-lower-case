{
 "cells": [
  {
   "cell_type": "code",
   "execution_count": 32,
   "id": "97257cec",
   "metadata": {},
   "outputs": [
    {
     "name": "stdout",
     "output_type": "stream",
     "text": [
      " *  *\n",
      "*    *\n",
      "*     *     *\n",
      "*     *  * *\n",
      " * * *  \n"
     ]
    }
   ],
   "source": [
    "for a in  range(6):\n",
    "    if a==1:\n",
    "        print(\" *  *\")\n",
    "    elif a==2:\n",
    "        print(\"*    *\")\n",
    "    elif a==3:\n",
    "        print(\"*     *     *\")\n",
    "    elif a==4:\n",
    "        print(\"*     *  * *\")\n",
    "    elif a==5:\n",
    "        print(\" * * *  \")\n",
    "    a=a+1      "
   ]
  },
  {
   "cell_type": "code",
   "execution_count": 42,
   "id": "97c9f39e",
   "metadata": {},
   "outputs": [
    {
     "name": "stdout",
     "output_type": "stream",
     "text": [
      "*  \n",
      "*    \n",
      "* * *   \n",
      "*   *\n",
      "*   *   \n",
      "* * *\n"
     ]
    }
   ],
   "source": [
    "for a in  range(7):\n",
    "    if a==1:\n",
    "        print(\"*  \")\n",
    "    elif a==2:\n",
    "        print(\"*    \")\n",
    "    elif a==3:\n",
    "        print(\"* * *   \")\n",
    "    elif a==4:\n",
    "        print(\"*   *\")\n",
    "    elif a==5:\n",
    "        print(\"*   *   \")\n",
    "    elif a==6:\n",
    "        print(\"* * *\")    \n",
    "    a=a+1      "
   ]
  },
  {
   "cell_type": "code",
   "execution_count": 46,
   "id": "64043bb0",
   "metadata": {},
   "outputs": [
    {
     "name": "stdout",
     "output_type": "stream",
     "text": [
      "  ****\n",
      "*  \n",
      "*  \n",
      "*  \n",
      "*\n",
      "  ****\n"
     ]
    }
   ],
   "source": [
    "for a in range(7):\n",
    "    if a==1:\n",
    "        print(\"  ****\")\n",
    "    elif a==2:\n",
    "        print(\"*  \")\n",
    "    elif a==3:\n",
    "        print(\"*  \")\n",
    "    elif a==3:\n",
    "        print(\"* * \")\n",
    "    elif a==4:\n",
    "        print(\"*  \")\n",
    "    elif a==5:\n",
    "        print(\"*\")\n",
    "    elif a==6:\n",
    "        print(\"  ****\")\n",
    "    a=a+1    \n",
    "    "
   ]
  },
  {
   "cell_type": "code",
   "execution_count": 49,
   "id": "e6f2a459",
   "metadata": {},
   "outputs": [
    {
     "name": "stdout",
     "output_type": "stream",
     "text": [
      "    *\n",
      "    *\n",
      "* * *   \n",
      "*   *\n",
      "*   *   \n",
      "* * *\n"
     ]
    }
   ],
   "source": [
    "for a in  range(7):\n",
    "    if a==1:\n",
    "        print(\"    *\")\n",
    "    elif a==2:\n",
    "        print(\"    *\")\n",
    "    elif a==3:\n",
    "        print(\"* * *   \")\n",
    "    elif a==4:\n",
    "        print(\"*   *\")\n",
    "    elif a==5:\n",
    "        print(\"*   *   \")\n",
    "    elif a==6:\n",
    "        print(\"* * *\")    "
   ]
  },
  {
   "cell_type": "code",
   "execution_count": 52,
   "id": "10d6e95b",
   "metadata": {},
   "outputs": [
    {
     "name": "stdout",
     "output_type": "stream",
     "text": [
      "* * * * \n",
      "*     *\n",
      "* * * *    \n",
      "*   \n",
      "*      \n",
      "* * * * *\n"
     ]
    }
   ],
   "source": [
    "for a in  range(7):\n",
    "    if a==1:\n",
    "        print(\"* * * * \")\n",
    "    elif a==2:\n",
    "        print(\"*     *\") \n",
    "    elif a==3:\n",
    "        print(\"* * * *    \")\n",
    "    elif a==4:\n",
    "        print(\"*   \")\n",
    "    elif a==5:\n",
    "        print(\"*      \")\n",
    "    elif a==6:\n",
    "        print(\"* * * * *\")    "
   ]
  },
  {
   "cell_type": "code",
   "execution_count": 27,
   "id": "f1820701",
   "metadata": {},
   "outputs": [
    {
     "name": "stdout",
     "output_type": "stream",
     "text": [
      "* * * * \n",
      "*      *\n",
      "*       \n",
      "* * * * \n",
      "*      \n",
      "* \n"
     ]
    }
   ],
   "source": [
    "for a in  range(7):\n",
    "    if a==1:\n",
    "        print(\"* * * * \")\n",
    "    elif a==2:\n",
    "        print(\"*      *\") \n",
    "    elif a==3:\n",
    "        print(\"*       \")\n",
    "    elif a==4:\n",
    "        print(\"* * * * \")\n",
    "    elif a==5:\n",
    "        print(\"*      \")\n",
    "    elif a==6:\n",
    "        print(\"* \")    "
   ]
  },
  {
   "cell_type": "code",
   "execution_count": 69,
   "id": "3b0830bd",
   "metadata": {},
   "outputs": [
    {
     "name": "stdout",
     "output_type": "stream",
     "text": [
      "   * * * \n",
      " *      *\n",
      "  * *  * \n",
      "       *\n",
      "*      *\n",
      " *  * * \n"
     ]
    }
   ],
   "source": [
    "for a in  range(7):\n",
    "    if a==1:\n",
    "        print(\"   * * * \")\n",
    "    elif a==2:\n",
    "        print(\" *      *\") \n",
    "    elif a==3:\n",
    "        print(\"  * *  * \")\n",
    "    elif a==4:\n",
    "        print(\"       *\")\n",
    "    elif a==5:\n",
    "        print(\"*      *\")\n",
    "    elif a==6:\n",
    "        print(\" *  * * \")    "
   ]
  },
  {
   "cell_type": "code",
   "execution_count": 74,
   "id": "ec6a3c8c",
   "metadata": {},
   "outputs": [
    {
     "name": "stdout",
     "output_type": "stream",
     "text": [
      "* \n",
      "*      \n",
      "*   \n",
      "* *  * * *\n",
      "*        *\n",
      "*        * \n",
      "*        *\n"
     ]
    }
   ],
   "source": [
    "for a in  range(8):\n",
    "    if a==1:\n",
    "        print(\"* \")\n",
    "    elif a==2:\n",
    "        print(\"*      \") \n",
    "    elif a==3:\n",
    "        print(\"*   \")\n",
    "    elif a==4:\n",
    "        print(\"* *  * * *\")\n",
    "    elif a==5:\n",
    "        print(\"*        *\")\n",
    "    elif a==6:\n",
    "        print(\"*        * \")\n",
    "    elif a==7:\n",
    "        print(\"*        *\")"
   ]
  },
  {
   "cell_type": "code",
   "execution_count": 25,
   "id": "94906819",
   "metadata": {},
   "outputs": [
    {
     "name": "stdout",
     "output_type": "stream",
     "text": [
      " * \n",
      "    \n",
      " *   \n",
      " * \n",
      " *        \n",
      " *         \n",
      " *        \n"
     ]
    }
   ],
   "source": [
    "for a in  range(8):\n",
    "    if a==1:\n",
    "        print(\" * \")\n",
    "    elif a==2:\n",
    "        print(\"    \") \n",
    "    elif a==3:\n",
    "        print(\" *   \")\n",
    "    elif a==4:\n",
    "        print(\" * \")\n",
    "    elif a==5:\n",
    "        print(\" *        \")\n",
    "    elif a==6:\n",
    "        print(\" *         \")\n",
    "    elif a==7:\n",
    "        print(\" *        \")"
   ]
  },
  {
   "cell_type": "code",
   "execution_count": 24,
   "id": "00eb22cc",
   "metadata": {},
   "outputs": [
    {
     "name": "stdout",
     "output_type": "stream",
     "text": [
      "    *\n",
      "        \n",
      "    *    \n",
      "    *    \n",
      "*   *    \n",
      "*   *    \n",
      "****\n"
     ]
    }
   ],
   "source": [
    "for a in  range(8):\n",
    "    if a==1:\n",
    "        print(\"    *\")\n",
    "    if a==2:\n",
    "        print(\"        \")\n",
    "    if a==3:\n",
    "        print(\"    *    \")\n",
    "    if a==4:\n",
    "        print(\"    *    \")\n",
    "    if a==5:\n",
    "        print(\"*   *    \")\n",
    "    if a==6:\n",
    "        print(\"*   *    \")\n",
    "    if a==7:\n",
    "        print(\"****\")\n",
    "    "
   ]
  },
  {
   "cell_type": "code",
   "execution_count": 104,
   "id": "874dcd2a",
   "metadata": {},
   "outputs": [
    {
     "name": "stdout",
     "output_type": "stream",
     "text": [
      "*\n",
      "*    * \n",
      "*  *  \n",
      "* *    \n",
      "*  *     \n",
      "*    * \n",
      "*    \n"
     ]
    }
   ],
   "source": [
    "for a in  range(8):\n",
    "    if a==1:\n",
    "        print(\"*\")\n",
    "    if a==2:\n",
    "        print(\"*    * \")\n",
    "    if a==3:\n",
    "        print(\"*  *  \")\n",
    "    if a==4:\n",
    "        print(\"* *    \")\n",
    "    if a==5:\n",
    "        print(\"*  *     \")\n",
    "    if a==6:\n",
    "        print(\"*    * \")\n",
    "    if a==7:\n",
    "        print(\"*    \")\n",
    "    "
   ]
  },
  {
   "cell_type": "code",
   "execution_count": 93,
   "id": "10d75ae5",
   "metadata": {},
   "outputs": [
    {
     "name": "stdout",
     "output_type": "stream",
     "text": [
      " * \n",
      " *    \n",
      " *   \n",
      " * \n",
      " *        \n",
      " *   *       \n",
      " *  *       \n"
     ]
    }
   ],
   "source": [
    "for a in  range(8):\n",
    "    if a==1:\n",
    "        print(\" * \")\n",
    "    elif a==2:\n",
    "        print(\" *    \") \n",
    "    elif a==3:\n",
    "        print(\" *   \")\n",
    "    elif a==4:\n",
    "        print(\" * \")\n",
    "    elif a==5:\n",
    "        print(\" *        \")\n",
    "    elif a==6:\n",
    "        print(\" *   *       \")\n",
    "    elif a==7:\n",
    "        print(\" *  *       \")"
   ]
  },
  {
   "cell_type": "code",
   "execution_count": 33,
   "id": "c5e6363f",
   "metadata": {},
   "outputs": [
    {
     "name": "stdout",
     "output_type": "stream",
     "text": [
      " *          \n",
      "  *           \n",
      "  * *    *  *\n",
      "  *    *     *\n",
      "  *          *\n",
      "  *          *\n",
      "  *          *\n"
     ]
    }
   ],
   "source": [
    "for a in  range(8):\n",
    "    if a==1:\n",
    "        print(\" *          \")\n",
    "    elif a==2:\n",
    "        print(\"  *           \") \n",
    "    elif a==3:\n",
    "        print(\"  * *    *  *\")\n",
    "    elif a==4:\n",
    "        print(\"  *    *     *\")\n",
    "    elif a==5:\n",
    "        print(\"  *          *\")\n",
    "    elif a==6:\n",
    "        print(\"  *          *\")\n",
    "    elif a==7:\n",
    "        print(\"  *          *\")"
   ]
  },
  {
   "cell_type": "code",
   "execution_count": 107,
   "id": "91aa51bd",
   "metadata": {},
   "outputs": [
    {
     "name": "stdout",
     "output_type": "stream",
     "text": [
      "* \n",
      "* * * \n",
      "*    * \n",
      "*    *\n"
     ]
    }
   ],
   "source": [
    "for a in  range(5):\n",
    "    if a==1:\n",
    "        print(\"* \")\n",
    "    elif a==2:\n",
    "        print(\"* * * \") \n",
    "    elif a==3:\n",
    "        print(\"*    * \")\n",
    "    elif a==4:\n",
    "        print(\"*    *\")\n",
    "   \n",
    "    "
   ]
  },
  {
   "cell_type": "code",
   "execution_count": 109,
   "id": "90c8e5f9",
   "metadata": {},
   "outputs": [
    {
     "name": "stdout",
     "output_type": "stream",
     "text": [
      "   *   *\n",
      "*        *\n",
      "*         *\n",
      "*        *\n",
      "   *   *\n"
     ]
    }
   ],
   "source": [
    "for a in  range(6): \n",
    "    if a==1:\n",
    "        print(\"   *   *\")\n",
    "    if a==2:\n",
    "        print( \"*        *\")\n",
    "    if a==3:\n",
    "        print(\"*         *\")\n",
    "    if a==4:\n",
    "        print(\"*        *\")\n",
    "    if a==5:\n",
    "        print(\"   *   *\")"
   ]
  },
  {
   "cell_type": "code",
   "execution_count": 12,
   "id": "4270d3d4",
   "metadata": {},
   "outputs": [
    {
     "name": "stdout",
     "output_type": "stream",
     "text": [
      "* \n",
      "* * * * * \n",
      "*        *\n",
      "* * * * * \n",
      "*   \n",
      "*  \n"
     ]
    }
   ],
   "source": [
    "for a in  range(7): \n",
    "    if a==1:\n",
    "        print(\"* \")\n",
    "    if a==2:\n",
    "        print(\"* * * * * \")\n",
    "    if a==3:\n",
    "        print(\"*        *\")\n",
    "    if a==4:\n",
    "        print(\"* * * * * \")\n",
    "    if a==5:\n",
    "        print(\"*   \")\n",
    "    if a==6:\n",
    "        print(\"*  \")\n",
    "    if a==7:\n",
    "        print(\"*\")\n",
    "    "
   ]
  },
  {
   "cell_type": "code",
   "execution_count": 7,
   "id": "4c43d049",
   "metadata": {},
   "outputs": [
    {
     "name": "stdout",
     "output_type": "stream",
     "text": [
      "* * * * *\n",
      "*       *\n",
      "* * * * *\n",
      "       *     *\n",
      "       *  *\n"
     ]
    }
   ],
   "source": [
    "for a in  range(6): \n",
    "    if a==1:\n",
    "        print(\"* * * * *\")\n",
    "    if a==2:\n",
    "        print(\"*       *\")\n",
    "    if a==3:\n",
    "        print(\"* * * * *\")\n",
    "    if a==4:\n",
    "        print(\"       *     *\")\n",
    "    if a==5:\n",
    "        print(\"       *  *\")\n",
    "    if a==6:\n",
    "        print(\"      *\")\n",
    "    "
   ]
  },
  {
   "cell_type": "code",
   "execution_count": 30,
   "id": "c377b2e3",
   "metadata": {},
   "outputs": [
    {
     "name": "stdout",
     "output_type": "stream",
     "text": [
      "  *             \n",
      "  * * * * * *\n",
      "  *         * \n",
      "  *          \n",
      "  *          \n",
      "  *          \n",
      "  *  \n"
     ]
    }
   ],
   "source": [
    "for a in  range(8):\n",
    "    if a==1:\n",
    "        print(\"  *             \")\n",
    "    elif a==2:\n",
    "        print(\"  * * * * * *\") \n",
    "    elif a==3:\n",
    "        print(\"  *         * \")\n",
    "    elif a==4:\n",
    "        print(\"  *          \")\n",
    "    elif a==5:\n",
    "        print(\"  *          \")\n",
    "    elif a==6:\n",
    "        print(\"  *          \")\n",
    "    elif a==7:\n",
    "        print(\"  *  \")"
   ]
  },
  {
   "cell_type": "code",
   "execution_count": 54,
   "id": "5b71fa38",
   "metadata": {},
   "outputs": [
    {
     "name": "stdout",
     "output_type": "stream",
     "text": [
      "*  *  *    \n",
      " *     *\n",
      "  *         \n",
      "    *       \n",
      "       * \n",
      "*      *  \n",
      "  * * \n"
     ]
    }
   ],
   "source": [
    "for a in  range(8):\n",
    "    if a==1:\n",
    "        print(\"*  *  *    \")\n",
    "    elif a==2:\n",
    "        print(\" *     *\") \n",
    "    elif a==3:\n",
    "        print(\"  *         \")\n",
    "    elif a==4:\n",
    "        print(\"    *       \")\n",
    "    elif a==5:\n",
    "        print(\"       * \")\n",
    "    elif a==6:\n",
    "        print(\"*      *  \")\n",
    "    elif a==7:\n",
    "        print(\"  * * \")"
   ]
  },
  {
   "cell_type": "code",
   "execution_count": 56,
   "id": "d812df8a",
   "metadata": {},
   "outputs": [
    {
     "name": "stdout",
     "output_type": "stream",
     "text": [
      " * \n",
      " *    \n",
      " *   \n",
      "* * * * \n",
      " *        \n",
      " *     *       \n",
      " *  *       \n"
     ]
    }
   ],
   "source": [
    "for a in  range(8):\n",
    "    if a==1:\n",
    "        print(\" * \")\n",
    "    elif a==2:\n",
    "        print(\" *    \") \n",
    "    elif a==3:\n",
    "        print(\" *   \")\n",
    "    elif a==4:\n",
    "        print(\" * \")\n",
    "    elif a==5:\n",
    "        print(\" *        \")\n",
    "    elif a==6:\n",
    "        print(\" *   *       \")\n",
    "    elif a==7:\n",
    "        print(\" *  *       \")"
   ]
  },
  {
   "cell_type": "code",
   "execution_count": 62,
   "id": "d22aab75",
   "metadata": {},
   "outputs": [
    {
     "name": "stdout",
     "output_type": "stream",
     "text": [
      " *        * \n",
      " *        * \n",
      " *        * \n",
      " *        * \n",
      " *        * \n",
      " *         *       \n",
      "   *  *     *   *\n"
     ]
    }
   ],
   "source": [
    "for a in  range(8):\n",
    "    if a==1:\n",
    "        print(\" *        * \")\n",
    "    elif a==2:\n",
    "        print(\" *        * \") \n",
    "    elif a==3:\n",
    "        print(\" *        * \")\n",
    "    elif a==4:\n",
    "        print(\" *        * \")\n",
    "    elif a==5:\n",
    "        print(\" *        * \")\n",
    "    elif a==6:\n",
    "        print(\" *         *       \")\n",
    "    elif a==7:\n",
    "        print(\"   *  *     *   *\")"
   ]
  },
  {
   "cell_type": "code",
   "execution_count": 70,
   "id": "a64c07f5",
   "metadata": {},
   "outputs": [
    {
     "name": "stdout",
     "output_type": "stream",
     "text": [
      " *            * \n",
      " *           * \n",
      " *          * \n",
      " *         * \n",
      " *        * \n",
      " *      *       \n",
      "    *    *  *\n"
     ]
    }
   ],
   "source": [
    "for a in  range(8):\n",
    "    if a==1:\n",
    "        print(\" *            * \")\n",
    "    elif a==2:\n",
    "        print(\" *           * \") \n",
    "    elif a==3:\n",
    "        print(\" *          * \")\n",
    "    elif a==4:\n",
    "        print(\" *         * \")\n",
    "    elif a==5:\n",
    "        print(\" *        * \")\n",
    "    elif a==6:\n",
    "        print(\" *      *       \")\n",
    "    elif a==7:\n",
    "        print(\"    *    *  *\")"
   ]
  },
  {
   "cell_type": "code",
   "execution_count": 83,
   "id": "edcfe41e",
   "metadata": {},
   "outputs": [
    {
     "name": "stdout",
     "output_type": "stream",
     "text": [
      " *            * \n",
      " *            * \n",
      " *            * \n",
      " *            * \n",
      " *     *      * \n",
      " *   *   *    *         \n",
      " *          * *  * * * \n"
     ]
    }
   ],
   "source": [
    "for a in  range(8):\n",
    "    if a==1:\n",
    "        print(\" *            * \")\n",
    "    elif a==2:\n",
    "        print(\" *            * \") \n",
    "    elif a==3:\n",
    "        print(\" *            * \")\n",
    "    elif a==4: \n",
    "        print(\" *            * \")\n",
    "    elif a==5:\n",
    "        print(\" *     *      * \")\n",
    "    elif a==6:  \n",
    "        print(\" *   *   *    *         \")\n",
    "    elif a==7:\n",
    "        print(\" *          * *  * * * \")"
   ]
  },
  {
   "cell_type": "code",
   "execution_count": 91,
   "id": "0e563f7c",
   "metadata": {},
   "outputs": [
    {
     "name": "stdout",
     "output_type": "stream",
     "text": [
      " * **        *  * * \n",
      "     *       * \n",
      "       *   *       \n",
      "      *     \n",
      "  *          * \n",
      " *              *         \n",
      " * *  *       * *  *  \n"
     ]
    }
   ],
   "source": [
    "for a in  range(8):\n",
    "    if a==1:\n",
    "        print(\" * **        *  * * \")\n",
    "    elif a==2:\n",
    "        print(\"     *       * \") \n",
    "    elif a==3:\n",
    "        print(\"       *   *       \")\n",
    "    elif a==4: \n",
    "        print(\"      *     \")\n",
    "    elif a==5:\n",
    "        print(\"  *          * \")\n",
    "    elif a==6:  \n",
    "        print(\" *              *         \")\n",
    "    elif a==7:\n",
    "        print(\" * *  *       * *  *  \")"
   ]
  },
  {
   "cell_type": "code",
   "execution_count": 93,
   "id": "fd094875",
   "metadata": {},
   "outputs": [
    {
     "name": "stdout",
     "output_type": "stream",
     "text": [
      " *     * \n",
      " *     *\n",
      "  * *  * \n",
      "       *\n",
      "*      *\n",
      " *  * * \n"
     ]
    }
   ],
   "source": [
    "for a in  range(7):\n",
    "    if a==1:\n",
    "        print(\" *     * \")\n",
    "    elif a==2:\n",
    "        print(\" *     *\") \n",
    "    elif a==3:\n",
    "        print(\"  * *  * \")\n",
    "    elif a==4:\n",
    "        print(\"       *\")\n",
    "    elif a==5:\n",
    "        print(\"*      *\")\n",
    "    elif a==6:\n",
    "        print(\" *  * * \")    "
   ]
  },
  {
   "cell_type": "code",
   "execution_count": 101,
   "id": "4cddbef1",
   "metadata": {},
   "outputs": [
    {
     "name": "stdout",
     "output_type": "stream",
     "text": [
      "  * * * * \n",
      "     *\n",
      "   *  \n",
      "  *      \n",
      " *      \n",
      " *  * * * \n"
     ]
    }
   ],
   "source": [
    "for a in  range(7):\n",
    "    if a==1:\n",
    "        print(\"  * * * * \")\n",
    "    elif a==2:\n",
    "        print(\"     *\") \n",
    "    elif a==3:\n",
    "        print(\"   *  \")\n",
    "    elif a==4:\n",
    "        print(\"  *      \")\n",
    "    elif a==5:\n",
    "        print(\" *      \")\n",
    "    elif a==6:\n",
    "        print(\" *  * * * \")    "
   ]
  },
  {
   "cell_type": "code",
   "execution_count": null,
   "id": "7b0539f2",
   "metadata": {},
   "outputs": [],
   "source": []
  }
 ],
 "metadata": {
  "kernelspec": {
   "display_name": "Python 3 (ipykernel)",
   "language": "python",
   "name": "python3"
  },
  "language_info": {
   "codemirror_mode": {
    "name": "ipython",
    "version": 3
   },
   "file_extension": ".py",
   "mimetype": "text/x-python",
   "name": "python",
   "nbconvert_exporter": "python",
   "pygments_lexer": "ipython3",
   "version": "3.9.13"
  }
 },
 "nbformat": 4,
 "nbformat_minor": 5
}
